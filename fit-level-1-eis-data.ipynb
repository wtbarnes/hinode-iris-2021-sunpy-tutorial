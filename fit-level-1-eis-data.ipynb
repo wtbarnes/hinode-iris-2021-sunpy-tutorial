{
 "cells": [
  {
   "cell_type": "markdown",
   "id": "rough-arlington",
   "metadata": {},
   "source": [
    "# Fit Level 1 EIS Data\n",
    "\n",
    "Generate level 3 EIS maps from level 1 EIS data cubes using `eispac`"
   ]
  },
  {
   "cell_type": "code",
   "execution_count": 1,
   "id": "interracial-screening",
   "metadata": {},
   "outputs": [],
   "source": [
    "from sunpy.net import Fido, attrs as a\n",
    "import eispac.net"
   ]
  },
  {
   "cell_type": "markdown",
   "id": "invisible-nevada",
   "metadata": {},
   "source": [
    "## Query and Download"
   ]
  },
  {
   "cell_type": "code",
   "execution_count": 2,
   "id": "harmful-nightlife",
   "metadata": {
    "collapsed": true,
    "jupyter": {
     "outputs_hidden": true
    },
    "tags": []
   },
   "outputs": [
    {
     "ename": "URLError",
     "evalue": "<urlopen error [SSL: CERTIFICATE_VERIFY_FAILED] certificate verify failed: certificate has expired (_ssl.c:1129)>",
     "output_type": "error",
     "traceback": [
      "\u001b[0;31m---------------------------------------------------------------------------\u001b[0m",
      "\u001b[0;31mSSLCertVerificationError\u001b[0m                  Traceback (most recent call last)",
      "\u001b[0;32m~/anaconda3/envs/sunpy-hinode-iris-21/lib/python3.9/urllib/request.py\u001b[0m in \u001b[0;36mdo_open\u001b[0;34m(self, http_class, req, **http_conn_args)\u001b[0m\n\u001b[1;32m   1345\u001b[0m             \u001b[0;32mtry\u001b[0m\u001b[0;34m:\u001b[0m\u001b[0;34m\u001b[0m\u001b[0;34m\u001b[0m\u001b[0m\n\u001b[0;32m-> 1346\u001b[0;31m                 h.request(req.get_method(), req.selector, req.data, headers,\n\u001b[0m\u001b[1;32m   1347\u001b[0m                           encode_chunked=req.has_header('Transfer-encoding'))\n",
      "\u001b[0;32m~/anaconda3/envs/sunpy-hinode-iris-21/lib/python3.9/http/client.py\u001b[0m in \u001b[0;36mrequest\u001b[0;34m(self, method, url, body, headers, encode_chunked)\u001b[0m\n\u001b[1;32m   1278\u001b[0m         \u001b[0;34m\"\"\"Send a complete request to the server.\"\"\"\u001b[0m\u001b[0;34m\u001b[0m\u001b[0;34m\u001b[0m\u001b[0m\n\u001b[0;32m-> 1279\u001b[0;31m         \u001b[0mself\u001b[0m\u001b[0;34m.\u001b[0m\u001b[0m_send_request\u001b[0m\u001b[0;34m(\u001b[0m\u001b[0mmethod\u001b[0m\u001b[0;34m,\u001b[0m \u001b[0murl\u001b[0m\u001b[0;34m,\u001b[0m \u001b[0mbody\u001b[0m\u001b[0;34m,\u001b[0m \u001b[0mheaders\u001b[0m\u001b[0;34m,\u001b[0m \u001b[0mencode_chunked\u001b[0m\u001b[0;34m)\u001b[0m\u001b[0;34m\u001b[0m\u001b[0;34m\u001b[0m\u001b[0m\n\u001b[0m\u001b[1;32m   1280\u001b[0m \u001b[0;34m\u001b[0m\u001b[0m\n",
      "\u001b[0;32m~/anaconda3/envs/sunpy-hinode-iris-21/lib/python3.9/http/client.py\u001b[0m in \u001b[0;36m_send_request\u001b[0;34m(self, method, url, body, headers, encode_chunked)\u001b[0m\n\u001b[1;32m   1324\u001b[0m             \u001b[0mbody\u001b[0m \u001b[0;34m=\u001b[0m \u001b[0m_encode\u001b[0m\u001b[0;34m(\u001b[0m\u001b[0mbody\u001b[0m\u001b[0;34m,\u001b[0m \u001b[0;34m'body'\u001b[0m\u001b[0;34m)\u001b[0m\u001b[0;34m\u001b[0m\u001b[0;34m\u001b[0m\u001b[0m\n\u001b[0;32m-> 1325\u001b[0;31m         \u001b[0mself\u001b[0m\u001b[0;34m.\u001b[0m\u001b[0mendheaders\u001b[0m\u001b[0;34m(\u001b[0m\u001b[0mbody\u001b[0m\u001b[0;34m,\u001b[0m \u001b[0mencode_chunked\u001b[0m\u001b[0;34m=\u001b[0m\u001b[0mencode_chunked\u001b[0m\u001b[0;34m)\u001b[0m\u001b[0;34m\u001b[0m\u001b[0;34m\u001b[0m\u001b[0m\n\u001b[0m\u001b[1;32m   1326\u001b[0m \u001b[0;34m\u001b[0m\u001b[0m\n",
      "\u001b[0;32m~/anaconda3/envs/sunpy-hinode-iris-21/lib/python3.9/http/client.py\u001b[0m in \u001b[0;36mendheaders\u001b[0;34m(self, message_body, encode_chunked)\u001b[0m\n\u001b[1;32m   1273\u001b[0m             \u001b[0;32mraise\u001b[0m \u001b[0mCannotSendHeader\u001b[0m\u001b[0;34m(\u001b[0m\u001b[0;34m)\u001b[0m\u001b[0;34m\u001b[0m\u001b[0;34m\u001b[0m\u001b[0m\n\u001b[0;32m-> 1274\u001b[0;31m         \u001b[0mself\u001b[0m\u001b[0;34m.\u001b[0m\u001b[0m_send_output\u001b[0m\u001b[0;34m(\u001b[0m\u001b[0mmessage_body\u001b[0m\u001b[0;34m,\u001b[0m \u001b[0mencode_chunked\u001b[0m\u001b[0;34m=\u001b[0m\u001b[0mencode_chunked\u001b[0m\u001b[0;34m)\u001b[0m\u001b[0;34m\u001b[0m\u001b[0;34m\u001b[0m\u001b[0m\n\u001b[0m\u001b[1;32m   1275\u001b[0m \u001b[0;34m\u001b[0m\u001b[0m\n",
      "\u001b[0;32m~/anaconda3/envs/sunpy-hinode-iris-21/lib/python3.9/http/client.py\u001b[0m in \u001b[0;36m_send_output\u001b[0;34m(self, message_body, encode_chunked)\u001b[0m\n\u001b[1;32m   1033\u001b[0m         \u001b[0;32mdel\u001b[0m \u001b[0mself\u001b[0m\u001b[0;34m.\u001b[0m\u001b[0m_buffer\u001b[0m\u001b[0;34m[\u001b[0m\u001b[0;34m:\u001b[0m\u001b[0;34m]\u001b[0m\u001b[0;34m\u001b[0m\u001b[0;34m\u001b[0m\u001b[0m\n\u001b[0;32m-> 1034\u001b[0;31m         \u001b[0mself\u001b[0m\u001b[0;34m.\u001b[0m\u001b[0msend\u001b[0m\u001b[0;34m(\u001b[0m\u001b[0mmsg\u001b[0m\u001b[0;34m)\u001b[0m\u001b[0;34m\u001b[0m\u001b[0;34m\u001b[0m\u001b[0m\n\u001b[0m\u001b[1;32m   1035\u001b[0m \u001b[0;34m\u001b[0m\u001b[0m\n",
      "\u001b[0;32m~/anaconda3/envs/sunpy-hinode-iris-21/lib/python3.9/http/client.py\u001b[0m in \u001b[0;36msend\u001b[0;34m(self, data)\u001b[0m\n\u001b[1;32m    973\u001b[0m             \u001b[0;32mif\u001b[0m \u001b[0mself\u001b[0m\u001b[0;34m.\u001b[0m\u001b[0mauto_open\u001b[0m\u001b[0;34m:\u001b[0m\u001b[0;34m\u001b[0m\u001b[0;34m\u001b[0m\u001b[0m\n\u001b[0;32m--> 974\u001b[0;31m                 \u001b[0mself\u001b[0m\u001b[0;34m.\u001b[0m\u001b[0mconnect\u001b[0m\u001b[0;34m(\u001b[0m\u001b[0;34m)\u001b[0m\u001b[0;34m\u001b[0m\u001b[0;34m\u001b[0m\u001b[0m\n\u001b[0m\u001b[1;32m    975\u001b[0m             \u001b[0;32melse\u001b[0m\u001b[0;34m:\u001b[0m\u001b[0;34m\u001b[0m\u001b[0;34m\u001b[0m\u001b[0m\n",
      "\u001b[0;32m~/anaconda3/envs/sunpy-hinode-iris-21/lib/python3.9/http/client.py\u001b[0m in \u001b[0;36mconnect\u001b[0;34m(self)\u001b[0m\n\u001b[1;32m   1447\u001b[0m \u001b[0;34m\u001b[0m\u001b[0m\n\u001b[0;32m-> 1448\u001b[0;31m             self.sock = self._context.wrap_socket(self.sock,\n\u001b[0m\u001b[1;32m   1449\u001b[0m                                                   server_hostname=server_hostname)\n",
      "\u001b[0;32m~/anaconda3/envs/sunpy-hinode-iris-21/lib/python3.9/ssl.py\u001b[0m in \u001b[0;36mwrap_socket\u001b[0;34m(self, sock, server_side, do_handshake_on_connect, suppress_ragged_eofs, server_hostname, session)\u001b[0m\n\u001b[1;32m    499\u001b[0m         \u001b[0;31m# ctx._wrap_socket()\u001b[0m\u001b[0;34m\u001b[0m\u001b[0;34m\u001b[0m\u001b[0m\n\u001b[0;32m--> 500\u001b[0;31m         return self.sslsocket_class._create(\n\u001b[0m\u001b[1;32m    501\u001b[0m             \u001b[0msock\u001b[0m\u001b[0;34m=\u001b[0m\u001b[0msock\u001b[0m\u001b[0;34m,\u001b[0m\u001b[0;34m\u001b[0m\u001b[0;34m\u001b[0m\u001b[0m\n",
      "\u001b[0;32m~/anaconda3/envs/sunpy-hinode-iris-21/lib/python3.9/ssl.py\u001b[0m in \u001b[0;36m_create\u001b[0;34m(cls, sock, server_side, do_handshake_on_connect, suppress_ragged_eofs, server_hostname, context, session)\u001b[0m\n\u001b[1;32m   1039\u001b[0m                         \u001b[0;32mraise\u001b[0m \u001b[0mValueError\u001b[0m\u001b[0;34m(\u001b[0m\u001b[0;34m\"do_handshake_on_connect should not be specified for non-blocking sockets\"\u001b[0m\u001b[0;34m)\u001b[0m\u001b[0;34m\u001b[0m\u001b[0;34m\u001b[0m\u001b[0m\n\u001b[0;32m-> 1040\u001b[0;31m                     \u001b[0mself\u001b[0m\u001b[0;34m.\u001b[0m\u001b[0mdo_handshake\u001b[0m\u001b[0;34m(\u001b[0m\u001b[0;34m)\u001b[0m\u001b[0;34m\u001b[0m\u001b[0;34m\u001b[0m\u001b[0m\n\u001b[0m\u001b[1;32m   1041\u001b[0m             \u001b[0;32mexcept\u001b[0m \u001b[0;34m(\u001b[0m\u001b[0mOSError\u001b[0m\u001b[0;34m,\u001b[0m \u001b[0mValueError\u001b[0m\u001b[0;34m)\u001b[0m\u001b[0;34m:\u001b[0m\u001b[0;34m\u001b[0m\u001b[0;34m\u001b[0m\u001b[0m\n",
      "\u001b[0;32m~/anaconda3/envs/sunpy-hinode-iris-21/lib/python3.9/ssl.py\u001b[0m in \u001b[0;36mdo_handshake\u001b[0;34m(self, block)\u001b[0m\n\u001b[1;32m   1308\u001b[0m                 \u001b[0mself\u001b[0m\u001b[0;34m.\u001b[0m\u001b[0msettimeout\u001b[0m\u001b[0;34m(\u001b[0m\u001b[0;32mNone\u001b[0m\u001b[0;34m)\u001b[0m\u001b[0;34m\u001b[0m\u001b[0;34m\u001b[0m\u001b[0m\n\u001b[0;32m-> 1309\u001b[0;31m             \u001b[0mself\u001b[0m\u001b[0;34m.\u001b[0m\u001b[0m_sslobj\u001b[0m\u001b[0;34m.\u001b[0m\u001b[0mdo_handshake\u001b[0m\u001b[0;34m(\u001b[0m\u001b[0;34m)\u001b[0m\u001b[0;34m\u001b[0m\u001b[0;34m\u001b[0m\u001b[0m\n\u001b[0m\u001b[1;32m   1310\u001b[0m         \u001b[0;32mfinally\u001b[0m\u001b[0;34m:\u001b[0m\u001b[0;34m\u001b[0m\u001b[0;34m\u001b[0m\u001b[0m\n",
      "\u001b[0;31mSSLCertVerificationError\u001b[0m: [SSL: CERTIFICATE_VERIFY_FAILED] certificate verify failed: certificate has expired (_ssl.c:1129)",
      "\nDuring handling of the above exception, another exception occurred:\n",
      "\u001b[0;31mURLError\u001b[0m                                  Traceback (most recent call last)",
      "\u001b[0;32m/tmp/ipykernel_35988/3373439552.py\u001b[0m in \u001b[0;36m<module>\u001b[0;34m\u001b[0m\n\u001b[0;32m----> 1\u001b[0;31m q = Fido.search(\n\u001b[0m\u001b[1;32m      2\u001b[0m     \u001b[0ma\u001b[0m\u001b[0;34m.\u001b[0m\u001b[0mTime\u001b[0m\u001b[0;34m(\u001b[0m\u001b[0;34m'2021-04-24 04:00:00'\u001b[0m\u001b[0;34m,\u001b[0m\u001b[0;34m'2021-04-24 05:00:00'\u001b[0m\u001b[0;34m)\u001b[0m\u001b[0;34m,\u001b[0m\u001b[0;34m\u001b[0m\u001b[0;34m\u001b[0m\u001b[0m\n\u001b[1;32m      3\u001b[0m     \u001b[0ma\u001b[0m\u001b[0;34m.\u001b[0m\u001b[0mInstrument\u001b[0m\u001b[0;34m(\u001b[0m\u001b[0;34m'EIS'\u001b[0m\u001b[0;34m)\u001b[0m\u001b[0;34m,\u001b[0m\u001b[0;34m\u001b[0m\u001b[0;34m\u001b[0m\u001b[0m\n\u001b[1;32m      4\u001b[0m     \u001b[0ma\u001b[0m\u001b[0;34m.\u001b[0m\u001b[0mPhysobs\u001b[0m\u001b[0;34m.\u001b[0m\u001b[0mintensity\u001b[0m\u001b[0;34m,\u001b[0m\u001b[0;34m\u001b[0m\u001b[0;34m\u001b[0m\u001b[0m\n\u001b[1;32m      5\u001b[0m     \u001b[0ma\u001b[0m\u001b[0;34m.\u001b[0m\u001b[0mSource\u001b[0m\u001b[0;34m(\u001b[0m\u001b[0;34m'Hinode'\u001b[0m\u001b[0;34m)\u001b[0m\u001b[0;34m,\u001b[0m\u001b[0;34m\u001b[0m\u001b[0;34m\u001b[0m\u001b[0m\n",
      "\u001b[0;32m~/anaconda3/envs/sunpy-hinode-iris-21/lib/python3.9/site-packages/sunpy/net/fido_factory.py\u001b[0m in \u001b[0;36msearch\u001b[0;34m(self, *query)\u001b[0m\n\u001b[1;32m    346\u001b[0m         \"\"\"\n\u001b[1;32m    347\u001b[0m         \u001b[0mquery\u001b[0m \u001b[0;34m=\u001b[0m \u001b[0mattr\u001b[0m\u001b[0;34m.\u001b[0m\u001b[0mand_\u001b[0m\u001b[0;34m(\u001b[0m\u001b[0;34m*\u001b[0m\u001b[0mquery\u001b[0m\u001b[0;34m)\u001b[0m\u001b[0;34m\u001b[0m\u001b[0;34m\u001b[0m\u001b[0m\n\u001b[0;32m--> 348\u001b[0;31m         \u001b[0mresults\u001b[0m \u001b[0;34m=\u001b[0m \u001b[0mquery_walker\u001b[0m\u001b[0;34m.\u001b[0m\u001b[0mcreate\u001b[0m\u001b[0;34m(\u001b[0m\u001b[0mquery\u001b[0m\u001b[0;34m,\u001b[0m \u001b[0mself\u001b[0m\u001b[0;34m)\u001b[0m\u001b[0;34m\u001b[0m\u001b[0;34m\u001b[0m\u001b[0m\n\u001b[0m\u001b[1;32m    349\u001b[0m \u001b[0;34m\u001b[0m\u001b[0m\n\u001b[1;32m    350\u001b[0m         \u001b[0;31m# If we have searched the VSO but no results were returned, but another\u001b[0m\u001b[0;34m\u001b[0m\u001b[0;34m\u001b[0m\u001b[0m\n",
      "\u001b[0;32m~/anaconda3/envs/sunpy-hinode-iris-21/lib/python3.9/site-packages/sunpy/net/attr.py\u001b[0m in \u001b[0;36mcreate\u001b[0;34m(self, *args, **kwargs)\u001b[0m\n\u001b[1;32m    572\u001b[0m         \u001b[0mCall\u001b[0m \u001b[0mthe\u001b[0m \u001b[0mcreate\u001b[0m \u001b[0mfunction\u001b[0m\u001b[0;34m(\u001b[0m\u001b[0ms\u001b[0m\u001b[0;34m)\u001b[0m \u001b[0mmatching\u001b[0m \u001b[0mthe\u001b[0m \u001b[0marguments\u001b[0m \u001b[0mto\u001b[0m \u001b[0mthis\u001b[0m \u001b[0mmethod\u001b[0m\u001b[0;34m.\u001b[0m\u001b[0;34m\u001b[0m\u001b[0;34m\u001b[0m\u001b[0m\n\u001b[1;32m    573\u001b[0m         \"\"\"\n\u001b[0;32m--> 574\u001b[0;31m         \u001b[0;32mreturn\u001b[0m \u001b[0mself\u001b[0m\u001b[0;34m.\u001b[0m\u001b[0mcreatemm\u001b[0m\u001b[0;34m(\u001b[0m\u001b[0mself\u001b[0m\u001b[0;34m,\u001b[0m \u001b[0;34m*\u001b[0m\u001b[0margs\u001b[0m\u001b[0;34m,\u001b[0m \u001b[0;34m**\u001b[0m\u001b[0mkwargs\u001b[0m\u001b[0;34m)\u001b[0m\u001b[0;34m\u001b[0m\u001b[0;34m\u001b[0m\u001b[0m\n\u001b[0m\u001b[1;32m    575\u001b[0m \u001b[0;34m\u001b[0m\u001b[0m\n\u001b[1;32m    576\u001b[0m     \u001b[0;32mdef\u001b[0m \u001b[0mapply\u001b[0m\u001b[0;34m(\u001b[0m\u001b[0mself\u001b[0m\u001b[0;34m,\u001b[0m \u001b[0;34m*\u001b[0m\u001b[0margs\u001b[0m\u001b[0;34m,\u001b[0m \u001b[0;34m**\u001b[0m\u001b[0mkwargs\u001b[0m\u001b[0;34m)\u001b[0m\u001b[0;34m:\u001b[0m\u001b[0;34m\u001b[0m\u001b[0;34m\u001b[0m\u001b[0m\n",
      "\u001b[0;32m~/anaconda3/envs/sunpy-hinode-iris-21/lib/python3.9/site-packages/sunpy/util/functools.py\u001b[0m in \u001b[0;36mwrapper\u001b[0;34m(*args, **kwargs)\u001b[0m\n\u001b[1;32m     16\u001b[0m \u001b[0;34m\u001b[0m\u001b[0m\n\u001b[1;32m     17\u001b[0m     \u001b[0;32mdef\u001b[0m \u001b[0mwrapper\u001b[0m\u001b[0;34m(\u001b[0m\u001b[0;34m*\u001b[0m\u001b[0margs\u001b[0m\u001b[0;34m,\u001b[0m \u001b[0;34m**\u001b[0m\u001b[0mkwargs\u001b[0m\u001b[0;34m)\u001b[0m\u001b[0;34m:\u001b[0m\u001b[0;34m\u001b[0m\u001b[0;34m\u001b[0m\u001b[0m\n\u001b[0;32m---> 18\u001b[0;31m         \u001b[0;32mreturn\u001b[0m \u001b[0mdispatcher\u001b[0m\u001b[0;34m.\u001b[0m\u001b[0mdispatch\u001b[0m\u001b[0;34m(\u001b[0m\u001b[0margs\u001b[0m\u001b[0;34m[\u001b[0m\u001b[0;36m1\u001b[0m\u001b[0;34m]\u001b[0m\u001b[0;34m.\u001b[0m\u001b[0m__class__\u001b[0m\u001b[0;34m)\u001b[0m\u001b[0;34m(\u001b[0m\u001b[0;34m*\u001b[0m\u001b[0margs\u001b[0m\u001b[0;34m,\u001b[0m \u001b[0;34m**\u001b[0m\u001b[0mkwargs\u001b[0m\u001b[0;34m)\u001b[0m\u001b[0;34m\u001b[0m\u001b[0;34m\u001b[0m\u001b[0m\n\u001b[0m\u001b[1;32m     19\u001b[0m \u001b[0;34m\u001b[0m\u001b[0m\n\u001b[1;32m     20\u001b[0m     \u001b[0mwrapper\u001b[0m\u001b[0;34m.\u001b[0m\u001b[0mdispatch\u001b[0m \u001b[0;34m=\u001b[0m \u001b[0mdispatcher\u001b[0m\u001b[0;34m.\u001b[0m\u001b[0mdispatch\u001b[0m\u001b[0;34m\u001b[0m\u001b[0;34m\u001b[0m\u001b[0m\n",
      "\u001b[0;32m~/anaconda3/envs/sunpy-hinode-iris-21/lib/python3.9/site-packages/sunpy/net/fido_factory.py\u001b[0m in \u001b[0;36m_create_and\u001b[0;34m(walker, query, factory)\u001b[0m\n\u001b[1;32m    275\u001b[0m \u001b[0;34m@\u001b[0m\u001b[0mquery_walker\u001b[0m\u001b[0;34m.\u001b[0m\u001b[0madd_creator\u001b[0m\u001b[0;34m(\u001b[0m\u001b[0mattr\u001b[0m\u001b[0;34m.\u001b[0m\u001b[0mAttrAnd\u001b[0m\u001b[0;34m)\u001b[0m\u001b[0;34m\u001b[0m\u001b[0;34m\u001b[0m\u001b[0m\n\u001b[1;32m    276\u001b[0m \u001b[0;32mdef\u001b[0m \u001b[0m_create_and\u001b[0m\u001b[0;34m(\u001b[0m\u001b[0mwalker\u001b[0m\u001b[0;34m,\u001b[0m \u001b[0mquery\u001b[0m\u001b[0;34m,\u001b[0m \u001b[0mfactory\u001b[0m\u001b[0;34m)\u001b[0m\u001b[0;34m:\u001b[0m\u001b[0;34m\u001b[0m\u001b[0;34m\u001b[0m\u001b[0m\n\u001b[0;32m--> 277\u001b[0;31m     \u001b[0;32mreturn\u001b[0m \u001b[0mfactory\u001b[0m\u001b[0;34m.\u001b[0m\u001b[0m_make_query_to_client\u001b[0m\u001b[0;34m(\u001b[0m\u001b[0;34m*\u001b[0m\u001b[0mquery\u001b[0m\u001b[0;34m.\u001b[0m\u001b[0mattrs\u001b[0m\u001b[0;34m)\u001b[0m\u001b[0;34m\u001b[0m\u001b[0;34m\u001b[0m\u001b[0m\n\u001b[0m\u001b[1;32m    278\u001b[0m \u001b[0;34m\u001b[0m\u001b[0m\n\u001b[1;32m    279\u001b[0m \u001b[0;34m\u001b[0m\u001b[0m\n",
      "\u001b[0;32m~/anaconda3/envs/sunpy-hinode-iris-21/lib/python3.9/site-packages/sunpy/net/fido_factory.py\u001b[0m in \u001b[0;36m_make_query_to_client\u001b[0;34m(self, *query)\u001b[0m\n\u001b[1;32m    511\u001b[0m             \u001b[0;32mif\u001b[0m \u001b[0misinstance\u001b[0m\u001b[0;34m(\u001b[0m\u001b[0mtmpclient\u001b[0m\u001b[0;34m,\u001b[0m \u001b[0mvso\u001b[0m\u001b[0;34m.\u001b[0m\u001b[0mVSOClient\u001b[0m\u001b[0;34m)\u001b[0m\u001b[0;34m:\u001b[0m\u001b[0;34m\u001b[0m\u001b[0;34m\u001b[0m\u001b[0m\n\u001b[1;32m    512\u001b[0m                 \u001b[0mkwargs\u001b[0m \u001b[0;34m=\u001b[0m \u001b[0mdict\u001b[0m\u001b[0;34m(\u001b[0m\u001b[0mresponse_format\u001b[0m\u001b[0;34m=\u001b[0m\u001b[0;34m\"table\"\u001b[0m\u001b[0;34m)\u001b[0m\u001b[0;34m\u001b[0m\u001b[0;34m\u001b[0m\u001b[0m\n\u001b[0;32m--> 513\u001b[0;31m             \u001b[0mresults\u001b[0m\u001b[0;34m.\u001b[0m\u001b[0mappend\u001b[0m\u001b[0;34m(\u001b[0m\u001b[0mtmpclient\u001b[0m\u001b[0;34m.\u001b[0m\u001b[0msearch\u001b[0m\u001b[0;34m(\u001b[0m\u001b[0;34m*\u001b[0m\u001b[0mquery\u001b[0m\u001b[0;34m,\u001b[0m \u001b[0;34m**\u001b[0m\u001b[0mkwargs\u001b[0m\u001b[0;34m)\u001b[0m\u001b[0;34m)\u001b[0m\u001b[0;34m\u001b[0m\u001b[0;34m\u001b[0m\u001b[0m\n\u001b[0m\u001b[1;32m    514\u001b[0m \u001b[0;34m\u001b[0m\u001b[0m\n\u001b[1;32m    515\u001b[0m         \u001b[0;31m# This method is called by `search` and the results are fed into a\u001b[0m\u001b[0;34m\u001b[0m\u001b[0;34m\u001b[0m\u001b[0m\n",
      "\u001b[0;32m~/anaconda3/envs/sunpy-hinode-iris-21/lib/python3.9/site-packages/sunpy/net/dataretriever/client.py\u001b[0m in \u001b[0;36msearch\u001b[0;34m(self, *args, **kwargs)\u001b[0m\n\u001b[1;32m    241\u001b[0m         \u001b[0mscraper\u001b[0m \u001b[0;34m=\u001b[0m \u001b[0mScraper\u001b[0m\u001b[0;34m(\u001b[0m\u001b[0mbaseurl\u001b[0m\u001b[0;34m,\u001b[0m \u001b[0mregex\u001b[0m\u001b[0;34m=\u001b[0m\u001b[0;32mTrue\u001b[0m\u001b[0;34m)\u001b[0m\u001b[0;34m\u001b[0m\u001b[0;34m\u001b[0m\u001b[0m\n\u001b[1;32m    242\u001b[0m         \u001b[0mtr\u001b[0m \u001b[0;34m=\u001b[0m \u001b[0mTimeRange\u001b[0m\u001b[0;34m(\u001b[0m\u001b[0mmatchdict\u001b[0m\u001b[0;34m[\u001b[0m\u001b[0;34m'Start Time'\u001b[0m\u001b[0;34m]\u001b[0m\u001b[0;34m,\u001b[0m \u001b[0mmatchdict\u001b[0m\u001b[0;34m[\u001b[0m\u001b[0;34m'End Time'\u001b[0m\u001b[0;34m]\u001b[0m\u001b[0;34m)\u001b[0m\u001b[0;34m\u001b[0m\u001b[0;34m\u001b[0m\u001b[0m\n\u001b[0;32m--> 243\u001b[0;31m         filesmeta = scraper._extract_files_meta(tr, extractor=pattern,\n\u001b[0m\u001b[1;32m    244\u001b[0m                                                 matcher=matchdict)\n\u001b[1;32m    245\u001b[0m         \u001b[0mfilesmeta\u001b[0m \u001b[0;34m=\u001b[0m \u001b[0msorted\u001b[0m\u001b[0;34m(\u001b[0m\u001b[0mfilesmeta\u001b[0m\u001b[0;34m,\u001b[0m \u001b[0mkey\u001b[0m\u001b[0;34m=\u001b[0m\u001b[0;32mlambda\u001b[0m \u001b[0mk\u001b[0m\u001b[0;34m:\u001b[0m \u001b[0mk\u001b[0m\u001b[0;34m[\u001b[0m\u001b[0;34m'url'\u001b[0m\u001b[0;34m]\u001b[0m\u001b[0;34m)\u001b[0m\u001b[0;34m\u001b[0m\u001b[0;34m\u001b[0m\u001b[0m\n",
      "\u001b[0;32m~/anaconda3/envs/sunpy-hinode-iris-21/lib/python3.9/site-packages/sunpy/util/scraper.py\u001b[0m in \u001b[0;36m_extract_files_meta\u001b[0;34m(self, timerange, extractor, matcher)\u001b[0m\n\u001b[1;32m    437\u001b[0m         \"\"\"\n\u001b[1;32m    438\u001b[0m         \u001b[0mself\u001b[0m\u001b[0;34m.\u001b[0m\u001b[0mextractor\u001b[0m \u001b[0;34m=\u001b[0m \u001b[0mextractor\u001b[0m\u001b[0;34m\u001b[0m\u001b[0;34m\u001b[0m\u001b[0m\n\u001b[0;32m--> 439\u001b[0;31m         \u001b[0murls\u001b[0m \u001b[0;34m=\u001b[0m \u001b[0mself\u001b[0m\u001b[0;34m.\u001b[0m\u001b[0mfilelist\u001b[0m\u001b[0;34m(\u001b[0m\u001b[0mtimerange\u001b[0m\u001b[0;34m)\u001b[0m\u001b[0;34m\u001b[0m\u001b[0;34m\u001b[0m\u001b[0m\n\u001b[0m\u001b[1;32m    440\u001b[0m         \u001b[0mmetalist\u001b[0m \u001b[0;34m=\u001b[0m \u001b[0;34m[\u001b[0m\u001b[0;34m]\u001b[0m\u001b[0;34m\u001b[0m\u001b[0;34m\u001b[0m\u001b[0m\n\u001b[1;32m    441\u001b[0m         \u001b[0;32mfor\u001b[0m \u001b[0murl\u001b[0m \u001b[0;32min\u001b[0m \u001b[0murls\u001b[0m\u001b[0;34m:\u001b[0m\u001b[0;34m\u001b[0m\u001b[0;34m\u001b[0m\u001b[0m\n",
      "\u001b[0;32m~/anaconda3/envs/sunpy-hinode-iris-21/lib/python3.9/site-packages/sunpy/util/scraper.py\u001b[0m in \u001b[0;36mfilelist\u001b[0;34m(self, timerange)\u001b[0m\n\u001b[1;32m    288\u001b[0m             \u001b[0mdirectory\u001b[0m \u001b[0;34m=\u001b[0m \u001b[0mdirectories\u001b[0m\u001b[0;34m.\u001b[0m\u001b[0mpop\u001b[0m\u001b[0;34m(\u001b[0m\u001b[0;36m0\u001b[0m\u001b[0;34m)\u001b[0m\u001b[0;34m\u001b[0m\u001b[0;34m\u001b[0m\u001b[0m\n\u001b[1;32m    289\u001b[0m             \u001b[0;32mtry\u001b[0m\u001b[0;34m:\u001b[0m\u001b[0;34m\u001b[0m\u001b[0;34m\u001b[0m\u001b[0m\n\u001b[0;32m--> 290\u001b[0;31m                 \u001b[0mopn\u001b[0m \u001b[0;34m=\u001b[0m \u001b[0murlopen\u001b[0m\u001b[0;34m(\u001b[0m\u001b[0mdirectory\u001b[0m\u001b[0;34m)\u001b[0m\u001b[0;34m\u001b[0m\u001b[0;34m\u001b[0m\u001b[0m\n\u001b[0m\u001b[1;32m    291\u001b[0m                 \u001b[0;32mtry\u001b[0m\u001b[0;34m:\u001b[0m\u001b[0;34m\u001b[0m\u001b[0;34m\u001b[0m\u001b[0m\n\u001b[1;32m    292\u001b[0m                     \u001b[0msoup\u001b[0m \u001b[0;34m=\u001b[0m \u001b[0mBeautifulSoup\u001b[0m\u001b[0;34m(\u001b[0m\u001b[0mopn\u001b[0m\u001b[0;34m,\u001b[0m \u001b[0;34m\"html.parser\"\u001b[0m\u001b[0;34m)\u001b[0m\u001b[0;34m\u001b[0m\u001b[0;34m\u001b[0m\u001b[0m\n",
      "\u001b[0;32m~/anaconda3/envs/sunpy-hinode-iris-21/lib/python3.9/urllib/request.py\u001b[0m in \u001b[0;36murlopen\u001b[0;34m(url, data, timeout, cafile, capath, cadefault, context)\u001b[0m\n\u001b[1;32m    212\u001b[0m     \u001b[0;32melse\u001b[0m\u001b[0;34m:\u001b[0m\u001b[0;34m\u001b[0m\u001b[0;34m\u001b[0m\u001b[0m\n\u001b[1;32m    213\u001b[0m         \u001b[0mopener\u001b[0m \u001b[0;34m=\u001b[0m \u001b[0m_opener\u001b[0m\u001b[0;34m\u001b[0m\u001b[0;34m\u001b[0m\u001b[0m\n\u001b[0;32m--> 214\u001b[0;31m     \u001b[0;32mreturn\u001b[0m \u001b[0mopener\u001b[0m\u001b[0;34m.\u001b[0m\u001b[0mopen\u001b[0m\u001b[0;34m(\u001b[0m\u001b[0murl\u001b[0m\u001b[0;34m,\u001b[0m \u001b[0mdata\u001b[0m\u001b[0;34m,\u001b[0m \u001b[0mtimeout\u001b[0m\u001b[0;34m)\u001b[0m\u001b[0;34m\u001b[0m\u001b[0;34m\u001b[0m\u001b[0m\n\u001b[0m\u001b[1;32m    215\u001b[0m \u001b[0;34m\u001b[0m\u001b[0m\n\u001b[1;32m    216\u001b[0m \u001b[0;32mdef\u001b[0m \u001b[0minstall_opener\u001b[0m\u001b[0;34m(\u001b[0m\u001b[0mopener\u001b[0m\u001b[0;34m)\u001b[0m\u001b[0;34m:\u001b[0m\u001b[0;34m\u001b[0m\u001b[0;34m\u001b[0m\u001b[0m\n",
      "\u001b[0;32m~/anaconda3/envs/sunpy-hinode-iris-21/lib/python3.9/urllib/request.py\u001b[0m in \u001b[0;36mopen\u001b[0;34m(self, fullurl, data, timeout)\u001b[0m\n\u001b[1;32m    515\u001b[0m \u001b[0;34m\u001b[0m\u001b[0m\n\u001b[1;32m    516\u001b[0m         \u001b[0msys\u001b[0m\u001b[0;34m.\u001b[0m\u001b[0maudit\u001b[0m\u001b[0;34m(\u001b[0m\u001b[0;34m'urllib.Request'\u001b[0m\u001b[0;34m,\u001b[0m \u001b[0mreq\u001b[0m\u001b[0;34m.\u001b[0m\u001b[0mfull_url\u001b[0m\u001b[0;34m,\u001b[0m \u001b[0mreq\u001b[0m\u001b[0;34m.\u001b[0m\u001b[0mdata\u001b[0m\u001b[0;34m,\u001b[0m \u001b[0mreq\u001b[0m\u001b[0;34m.\u001b[0m\u001b[0mheaders\u001b[0m\u001b[0;34m,\u001b[0m \u001b[0mreq\u001b[0m\u001b[0;34m.\u001b[0m\u001b[0mget_method\u001b[0m\u001b[0;34m(\u001b[0m\u001b[0;34m)\u001b[0m\u001b[0;34m)\u001b[0m\u001b[0;34m\u001b[0m\u001b[0;34m\u001b[0m\u001b[0m\n\u001b[0;32m--> 517\u001b[0;31m         \u001b[0mresponse\u001b[0m \u001b[0;34m=\u001b[0m \u001b[0mself\u001b[0m\u001b[0;34m.\u001b[0m\u001b[0m_open\u001b[0m\u001b[0;34m(\u001b[0m\u001b[0mreq\u001b[0m\u001b[0;34m,\u001b[0m \u001b[0mdata\u001b[0m\u001b[0;34m)\u001b[0m\u001b[0;34m\u001b[0m\u001b[0;34m\u001b[0m\u001b[0m\n\u001b[0m\u001b[1;32m    518\u001b[0m \u001b[0;34m\u001b[0m\u001b[0m\n\u001b[1;32m    519\u001b[0m         \u001b[0;31m# post-process response\u001b[0m\u001b[0;34m\u001b[0m\u001b[0;34m\u001b[0m\u001b[0m\n",
      "\u001b[0;32m~/anaconda3/envs/sunpy-hinode-iris-21/lib/python3.9/urllib/request.py\u001b[0m in \u001b[0;36m_open\u001b[0;34m(self, req, data)\u001b[0m\n\u001b[1;32m    532\u001b[0m \u001b[0;34m\u001b[0m\u001b[0m\n\u001b[1;32m    533\u001b[0m         \u001b[0mprotocol\u001b[0m \u001b[0;34m=\u001b[0m \u001b[0mreq\u001b[0m\u001b[0;34m.\u001b[0m\u001b[0mtype\u001b[0m\u001b[0;34m\u001b[0m\u001b[0;34m\u001b[0m\u001b[0m\n\u001b[0;32m--> 534\u001b[0;31m         result = self._call_chain(self.handle_open, protocol, protocol +\n\u001b[0m\u001b[1;32m    535\u001b[0m                                   '_open', req)\n\u001b[1;32m    536\u001b[0m         \u001b[0;32mif\u001b[0m \u001b[0mresult\u001b[0m\u001b[0;34m:\u001b[0m\u001b[0;34m\u001b[0m\u001b[0;34m\u001b[0m\u001b[0m\n",
      "\u001b[0;32m~/anaconda3/envs/sunpy-hinode-iris-21/lib/python3.9/urllib/request.py\u001b[0m in \u001b[0;36m_call_chain\u001b[0;34m(self, chain, kind, meth_name, *args)\u001b[0m\n\u001b[1;32m    492\u001b[0m         \u001b[0;32mfor\u001b[0m \u001b[0mhandler\u001b[0m \u001b[0;32min\u001b[0m \u001b[0mhandlers\u001b[0m\u001b[0;34m:\u001b[0m\u001b[0;34m\u001b[0m\u001b[0;34m\u001b[0m\u001b[0m\n\u001b[1;32m    493\u001b[0m             \u001b[0mfunc\u001b[0m \u001b[0;34m=\u001b[0m \u001b[0mgetattr\u001b[0m\u001b[0;34m(\u001b[0m\u001b[0mhandler\u001b[0m\u001b[0;34m,\u001b[0m \u001b[0mmeth_name\u001b[0m\u001b[0;34m)\u001b[0m\u001b[0;34m\u001b[0m\u001b[0;34m\u001b[0m\u001b[0m\n\u001b[0;32m--> 494\u001b[0;31m             \u001b[0mresult\u001b[0m \u001b[0;34m=\u001b[0m \u001b[0mfunc\u001b[0m\u001b[0;34m(\u001b[0m\u001b[0;34m*\u001b[0m\u001b[0margs\u001b[0m\u001b[0;34m)\u001b[0m\u001b[0;34m\u001b[0m\u001b[0;34m\u001b[0m\u001b[0m\n\u001b[0m\u001b[1;32m    495\u001b[0m             \u001b[0;32mif\u001b[0m \u001b[0mresult\u001b[0m \u001b[0;32mis\u001b[0m \u001b[0;32mnot\u001b[0m \u001b[0;32mNone\u001b[0m\u001b[0;34m:\u001b[0m\u001b[0;34m\u001b[0m\u001b[0;34m\u001b[0m\u001b[0m\n\u001b[1;32m    496\u001b[0m                 \u001b[0;32mreturn\u001b[0m \u001b[0mresult\u001b[0m\u001b[0;34m\u001b[0m\u001b[0;34m\u001b[0m\u001b[0m\n",
      "\u001b[0;32m~/anaconda3/envs/sunpy-hinode-iris-21/lib/python3.9/urllib/request.py\u001b[0m in \u001b[0;36mhttps_open\u001b[0;34m(self, req)\u001b[0m\n\u001b[1;32m   1387\u001b[0m \u001b[0;34m\u001b[0m\u001b[0m\n\u001b[1;32m   1388\u001b[0m         \u001b[0;32mdef\u001b[0m \u001b[0mhttps_open\u001b[0m\u001b[0;34m(\u001b[0m\u001b[0mself\u001b[0m\u001b[0;34m,\u001b[0m \u001b[0mreq\u001b[0m\u001b[0;34m)\u001b[0m\u001b[0;34m:\u001b[0m\u001b[0;34m\u001b[0m\u001b[0;34m\u001b[0m\u001b[0m\n\u001b[0;32m-> 1389\u001b[0;31m             return self.do_open(http.client.HTTPSConnection, req,\n\u001b[0m\u001b[1;32m   1390\u001b[0m                 context=self._context, check_hostname=self._check_hostname)\n\u001b[1;32m   1391\u001b[0m \u001b[0;34m\u001b[0m\u001b[0m\n",
      "\u001b[0;32m~/anaconda3/envs/sunpy-hinode-iris-21/lib/python3.9/urllib/request.py\u001b[0m in \u001b[0;36mdo_open\u001b[0;34m(self, http_class, req, **http_conn_args)\u001b[0m\n\u001b[1;32m   1347\u001b[0m                           encode_chunked=req.has_header('Transfer-encoding'))\n\u001b[1;32m   1348\u001b[0m             \u001b[0;32mexcept\u001b[0m \u001b[0mOSError\u001b[0m \u001b[0;32mas\u001b[0m \u001b[0merr\u001b[0m\u001b[0;34m:\u001b[0m \u001b[0;31m# timeout error\u001b[0m\u001b[0;34m\u001b[0m\u001b[0;34m\u001b[0m\u001b[0m\n\u001b[0;32m-> 1349\u001b[0;31m                 \u001b[0;32mraise\u001b[0m \u001b[0mURLError\u001b[0m\u001b[0;34m(\u001b[0m\u001b[0merr\u001b[0m\u001b[0;34m)\u001b[0m\u001b[0;34m\u001b[0m\u001b[0;34m\u001b[0m\u001b[0m\n\u001b[0m\u001b[1;32m   1350\u001b[0m             \u001b[0mr\u001b[0m \u001b[0;34m=\u001b[0m \u001b[0mh\u001b[0m\u001b[0;34m.\u001b[0m\u001b[0mgetresponse\u001b[0m\u001b[0;34m(\u001b[0m\u001b[0;34m)\u001b[0m\u001b[0;34m\u001b[0m\u001b[0;34m\u001b[0m\u001b[0m\n\u001b[1;32m   1351\u001b[0m         \u001b[0;32mexcept\u001b[0m\u001b[0;34m:\u001b[0m\u001b[0;34m\u001b[0m\u001b[0;34m\u001b[0m\u001b[0m\n",
      "\u001b[0;31mURLError\u001b[0m: <urlopen error [SSL: CERTIFICATE_VERIFY_FAILED] certificate verify failed: certificate has expired (_ssl.c:1129)>"
     ]
    }
   ],
   "source": [
    "q = Fido.search(\n",
    "    a.Time('2021-04-24 04:00:00','2021-04-24 05:00:00'),\n",
    "    a.Instrument('EIS'),\n",
    "    a.Physobs.intensity,\n",
    "    a.Source('Hinode'),\n",
    "    a.Provider('NRL'),\n",
    "    a.Level('1'),\n",
    ")"
   ]
  },
  {
   "cell_type": "code",
   "execution_count": 16,
   "id": "mexican-aquatic",
   "metadata": {},
   "outputs": [
    {
     "data": {
      "text/html": [
       "Results from 1 Provider:</br></br>2 Results from the EISClient:</br><i>QueryResponse length=2</i>\n",
       "<table id=\"table139899214787248\" class=\"table-striped table-bordered table-condensed\">\n",
       "<thead><tr><th>Start Time</th><th>End Time</th><th>Instrument</th><th>Physobs</th><th>Source</th><th>Provider</th><th>Level</th><th>FileType</th></tr></thead>\n",
       "<thead><tr><th>object</th><th>object</th><th>str3</th><th>str9</th><th>str6</th><th>str3</th><th>str1</th><th>str4</th></tr></thead>\n",
       "<tr><td>2021-04-24 04:14:23.000</td><td>2021-04-24 04:14:23.999</td><td>EIS</td><td>intensity</td><td>HINODE</td><td>NRL</td><td>1</td><td>data</td></tr>\n",
       "<tr><td>2021-04-24 04:14:23.000</td><td>2021-04-24 04:14:23.999</td><td>EIS</td><td>intensity</td><td>HINODE</td><td>NRL</td><td>1</td><td>head</td></tr>\n",
       "</table></br>"
      ],
      "text/plain": [
       "<sunpy.net.fido_factory.UnifiedResponse object at 0x7f3cd370f0a0>\n",
       "Results from 1 Provider:\n",
       "\n",
       "2 Results from the EISClient:\n",
       "       Start Time               End Time        Instrument  Physobs  Source Provider Level FileType\n",
       "----------------------- ----------------------- ---------- --------- ------ -------- ----- --------\n",
       "2021-04-24 04:14:23.000 2021-04-24 04:14:23.999        EIS intensity HINODE      NRL     1     data\n",
       "2021-04-24 04:14:23.000 2021-04-24 04:14:23.999        EIS intensity HINODE      NRL     1     head\n"
      ]
     },
     "execution_count": 16,
     "metadata": {},
     "output_type": "execute_result"
    }
   ],
   "source": [
    "q"
   ]
  },
  {
   "cell_type": "code",
   "execution_count": 17,
   "id": "functioning-sound",
   "metadata": {
    "collapsed": true,
    "jupyter": {
     "outputs_hidden": true
    },
    "tags": []
   },
   "outputs": [
    {
     "name": "stderr",
     "output_type": "stream",
     "text": [
      "Files Downloaded:   0%|                                                                                                   | 0/2 [00:00<?, ?file/s]\n",
      "\n",
      "eis_20210424_041423.head.h5:   0%|                                                                                     | 0.00/629k [00:00<?, ?B/s]\u001b[A\u001b[A\n",
      "eis_20210424_041423.data.h5:   0%|                                                                                    | 0.00/68.5M [00:00<?, ?B/s]\u001b[A\n",
      "\n",
      "Files Downloaded:  50%|█████████████████████████████████████████████▌                                             | 1/2 [00:00<00:00,  3.45file/s]\u001b[A\u001b[A\n",
      "eis_20210424_041423.data.h5:   1%|▋                                                                           | 574k/68.5M [00:00<00:12, 5.66MB/s]\u001b[A\n",
      "eis_20210424_041423.data.h5:   3%|██▍                                                                        | 2.26M/68.5M [00:00<00:05, 12.2MB/s]\u001b[A\n",
      "eis_20210424_041423.data.h5:   6%|████▎                                                                      | 3.89M/68.5M [00:00<00:04, 14.1MB/s]\u001b[A\n",
      "eis_20210424_041423.data.h5:   8%|██████                                                                     | 5.58M/68.5M [00:00<00:04, 15.0MB/s]\u001b[A\n",
      "eis_20210424_041423.data.h5:  11%|████████                                                                   | 7.41M/68.5M [00:00<00:03, 15.9MB/s]\u001b[A\n",
      "eis_20210424_041423.data.h5:  13%|██████████                                                                 | 9.23M/68.5M [00:00<00:03, 16.5MB/s]\u001b[A\n",
      "eis_20210424_041423.data.h5:  16%|████████████                                                               | 11.1M/68.5M [00:00<00:03, 16.8MB/s]\u001b[A\n",
      "eis_20210424_041423.data.h5:  19%|██████████████                                                             | 12.9M/68.5M [00:00<00:03, 17.1MB/s]\u001b[A\n",
      "eis_20210424_041423.data.h5:  21%|████████████████                                                           | 14.7M/68.5M [00:00<00:03, 17.4MB/s]\u001b[A\n",
      "eis_20210424_041423.data.h5:  24%|██████████████████                                                         | 16.5M/68.5M [00:01<00:02, 17.4MB/s]\u001b[A\n",
      "eis_20210424_041423.data.h5:  27%|███████████████████▉                                                       | 18.2M/68.5M [00:01<00:02, 17.3MB/s]\u001b[A\n",
      "eis_20210424_041423.data.h5:  29%|█████████████████████▊                                                     | 19.9M/68.5M [00:01<00:02, 17.3MB/s]\u001b[A\n",
      "eis_20210424_041423.data.h5:  32%|███████████████████████▊                                                   | 21.8M/68.5M [00:01<00:02, 17.6MB/s]\u001b[A\n",
      "eis_20210424_041423.data.h5:  34%|█████████████████████████▊                                                 | 23.5M/68.5M [00:01<00:02, 17.4MB/s]\u001b[A\n",
      "eis_20210424_041423.data.h5:  37%|███████████████████████████▋                                               | 25.3M/68.5M [00:01<00:02, 17.4MB/s]\u001b[A\n",
      "eis_20210424_041423.data.h5:  39%|█████████████████████████████▌                                             | 27.0M/68.5M [00:01<00:02, 17.3MB/s]\u001b[A\n",
      "eis_20210424_041423.data.h5:  42%|███████████████████████████████▌                                           | 28.8M/68.5M [00:01<00:02, 17.1MB/s]\u001b[A\n",
      "eis_20210424_041423.data.h5:  45%|█████████████████████████████████▌                                         | 30.7M/68.5M [00:01<00:02, 17.6MB/s]\u001b[A\n",
      "eis_20210424_041423.data.h5:  47%|███████████████████████████████████▌                                       | 32.5M/68.5M [00:01<00:02, 17.5MB/s]\u001b[A\n",
      "eis_20210424_041423.data.h5:  50%|█████████████████████████████████████▌                                     | 34.3M/68.5M [00:02<00:01, 17.4MB/s]\u001b[A\n",
      "eis_20210424_041423.data.h5:  53%|███████████████████████████████████████▌                                   | 36.2M/68.5M [00:02<00:01, 17.4MB/s]\u001b[A\n",
      "eis_20210424_041423.data.h5:  56%|█████████████████████████████████████████▋                                 | 38.1M/68.5M [00:02<00:01, 17.5MB/s]\u001b[A\n",
      "eis_20210424_041423.data.h5:  58%|███████████████████████████████████████████▊                               | 40.1M/68.5M [00:02<00:01, 18.0MB/s]\u001b[A\n",
      "eis_20210424_041423.data.h5:  61%|█████████████████████████████████████████████▊                             | 41.9M/68.5M [00:02<00:01, 17.8MB/s]\u001b[A\n",
      "eis_20210424_041423.data.h5:  64%|███████████████████████████████████████████████▊                           | 43.7M/68.5M [00:02<00:01, 17.5MB/s]\u001b[A\n",
      "eis_20210424_041423.data.h5:  67%|█████████████████████████████████████████████████▉                         | 45.6M/68.5M [00:02<00:01, 18.1MB/s]\u001b[A\n",
      "eis_20210424_041423.data.h5:  69%|███████████████████████████████████████████████████▉                       | 47.4M/68.5M [00:02<00:01, 18.0MB/s]\u001b[A\n",
      "eis_20210424_041423.data.h5:  72%|█████████████████████████████████████████████████████▊                     | 49.2M/68.5M [00:02<00:01, 17.7MB/s]\u001b[A\n",
      "eis_20210424_041423.data.h5:  75%|███████████████████████████████████████████████████████▉                   | 51.1M/68.5M [00:02<00:00, 17.9MB/s]\u001b[A\n",
      "eis_20210424_041423.data.h5:  77%|█████████████████████████████████████████████████████████▉                 | 52.9M/68.5M [00:03<00:00, 17.6MB/s]\u001b[A\n",
      "eis_20210424_041423.data.h5:  80%|████████████████████████████████████████████████████████████               | 54.9M/68.5M [00:03<00:00, 18.2MB/s]\u001b[A\n",
      "eis_20210424_041423.data.h5:  83%|██████████████████████████████████████████████████████████████             | 56.7M/68.5M [00:03<00:00, 18.1MB/s]\u001b[A\n",
      "eis_20210424_041423.data.h5:  85%|████████████████████████████████████████████████████████████████           | 58.5M/68.5M [00:03<00:00, 17.8MB/s]\u001b[A\n",
      "eis_20210424_041423.data.h5:  88%|██████████████████████████████████████████████████████████████████▏        | 60.5M/68.5M [00:03<00:00, 18.4MB/s]\u001b[A\n",
      "eis_20210424_041423.data.h5:  91%|████████████████████████████████████████████████████████████████████▏      | 62.4M/68.5M [00:03<00:00, 17.8MB/s]\u001b[A\n",
      "eis_20210424_041423.data.h5:  94%|██████████████████████████████████████████████████████████████████████▏    | 64.1M/68.5M [00:03<00:00, 17.4MB/s]\u001b[A\n",
      "eis_20210424_041423.data.h5:  96%|████████████████████████████████████████████████████████████████████████▏  | 66.0M/68.5M [00:03<00:00, 17.7MB/s]\u001b[A\n",
      "eis_20210424_041423.data.h5:  99%|██████████████████████████████████████████████████████████████████████████▏| 67.8M/68.5M [00:03<00:00, 17.9MB/s]\u001b[A\n",
      "Files Downloaded: 100%|███████████████████████████████████████████████████████████████████████████████████████████| 2/2 [00:04<00:00,  2.09s/file]\u001b[A\n"
     ]
    }
   ],
   "source": [
    "files = Fido.fetch(q)"
   ]
  },
  {
   "cell_type": "code",
   "execution_count": 18,
   "id": "ranging-substance",
   "metadata": {},
   "outputs": [],
   "source": [
    "files = sorted(files)"
   ]
  },
  {
   "cell_type": "code",
   "execution_count": 19,
   "id": "racial-brick",
   "metadata": {},
   "outputs": [
    {
     "data": {
      "text/plain": [
       "['/home/wbarnes/sunpy/data/eis_20210424_041423.data.h5',\n",
       " '/home/wbarnes/sunpy/data/eis_20210424_041423.head.h5']"
      ]
     },
     "execution_count": 19,
     "metadata": {},
     "output_type": "execute_result"
    }
   ],
   "source": [
    "files"
   ]
  },
  {
   "cell_type": "markdown",
   "id": "caroline-monster",
   "metadata": {},
   "source": [
    "## Fit Spectra"
   ]
  },
  {
   "cell_type": "code",
   "execution_count": 20,
   "id": "unsigned-apple",
   "metadata": {},
   "outputs": [],
   "source": [
    "template_names = [\n",
    "    'fe_09_197_862.1c.template.h5',\n",
    "    'fe_10_184_536.1c.template.h5',\n",
    "    'fe_11_188_216.2c.template.h5',\n",
    "    'fe_12_186_880.1c.template.h5',\n",
    "    'fe_12_195_119.1c.template.h5',\n",
    "]\n",
    "templates = [eispac.read_template(eispac.data.get_fit_template_filepath(t)) for t in template_names]"
   ]
  },
  {
   "cell_type": "code",
   "execution_count": 21,
   "id": "public-robinson",
   "metadata": {},
   "outputs": [
    {
     "name": "stdout",
     "output_type": "stream",
     "text": [
      "Data file,\n",
      "   /home/wbarnes/sunpy/data/eis_20210424_041423.data.h5\n",
      "Header file,\n",
      "   /home/wbarnes/sunpy/data/eis_20210424_041423.head.h5\n",
      "Data file,\n",
      "   /home/wbarnes/sunpy/data/eis_20210424_041423.data.h5\n",
      "Header file,\n",
      "   /home/wbarnes/sunpy/data/eis_20210424_041423.head.h5\n",
      "Found a wavelength 184.60 [Angstroms] in window 0\n"
     ]
    },
    {
     "name": "stderr",
     "output_type": "stream",
     "text": [
      "Error: Wavelength not found! The input data file does not contain a window that observes 197.81499481201172 Angstroms\n",
      "Error: missing or invalid data. Please input a filepath, EISCube, or complete set of intensity, wavelength, and error arrays.\n",
      "Error: Please input a valid EISFitResult object.\n"
     ]
    },
    {
     "name": "stdout",
     "output_type": "stream",
     "text": [
      "INFO: uncertainty should have attribute uncertainty_type. [astropy.nddata.nddata]\n",
      " + computing fits for 123 exposures, each with 512 spectra\n",
      " + running mpfit on 36 cores (of 36)\n",
      " + working on exposure 123 + working on exposure 003 + working on exposure 005 + working on exposure 006 + working on exposure 007 + working on exposure 010 + working on exposure 011 + working on exposure 012 + working on exposure 015 + working on exposure 016 + working on exposure 018 + working on exposure 028 + working on exposure 030 + working on exposure 031 + working on exposure 032 + working on exposure 034 + working on exposure 024 + working on exposure 039 + working on exposure 040 + working on exposure 043 + working on exposure 045 + working on exposure 047 + working on exposure 048 + working on exposure 049 + working on exposure 051 + working on exposure 050 + working on exposure 052 + working on exposure 053 + working on exposure 054 + working on exposure 060 + working on exposure 061 + working on exposure 068 + working on exposure 070 + working on exposure 071 + working on exposure 072 + working on exposure 078 + working on exposure 077 + working on exposure 082 + working on exposure 083 + working on exposure 086 + working on exposure 087 + working on exposure 089 + working on exposure 090 + working on exposure 091 + working on exposure 093 + working on exposure 092 + working on exposure 094 + working on exposure 095 + working on exposure 097 + working on exposure 098 + working on exposure 100 + working on exposure 102 + working on exposure 103 + working on exposure 105 + working on exposure 106 + working on exposure 115 + working on exposure 116 + working on exposure 119 + working on exposure 118\r"
     ]
    },
    {
     "name": "stderr",
     "output_type": "stream",
     "text": [
      "/home/wbarnes/Documents/codes/eispac/eispac/core/fit_spectra.py:423: RuntimeWarning: invalid value encountered in true_divide\n",
      "  rel_err = obs_errs/obs_cent\n"
     ]
    },
    {
     "name": "stdout",
     "output_type": "stream",
     "text": [
      "\n",
      "\n",
      "Finished computing fits!\n",
      "   runtime : 0:00:15.670488\n",
      "   62954 spectra fit without issues\n",
      "   22 spectra have < 7 good data points\n",
      "   0 spectra have bad or invalid parameters\n",
      "Saving fit EIS intensities, velocities, and widths to fits files...\n",
      "   Directory: data\n",
      "   Filenames: eis_20210424_041423.fe_10_184_536.1c-0.int.fits\n",
      "              eis_20210424_041423.fe_10_184_536.1c-0.vel.fits\n",
      "              eis_20210424_041423.fe_10_184_536.1c-0.wid.fits\n",
      "Data file,\n",
      "   /home/wbarnes/sunpy/data/eis_20210424_041423.data.h5\n",
      "Header file,\n",
      "   /home/wbarnes/sunpy/data/eis_20210424_041423.head.h5\n",
      "Found a wavelength 188.20 [Angstroms] in window 2\n",
      "INFO: uncertainty should have attribute uncertainty_type. [astropy.nddata.nddata]\n",
      " + computing fits for 123 exposures, each with 512 spectra\n",
      " + running mpfit on 36 cores (of 36)\n",
      " + working on exposure 123 + working on exposure 015 + working on exposure 017 + working on exposure 018 + working on exposure 019 + working on exposure 028 + working on exposure 030 + working on exposure 032 + working on exposure 034 + working on exposure 035 + working on exposure 036 + working on exposure 038 + working on exposure 042 + working on exposure 041 + working on exposure 046 + working on exposure 045 + working on exposure 048 + working on exposure 047 + working on exposure 050 + working on exposure 053 + working on exposure 055 + working on exposure 054 + working on exposure 056 + working on exposure 057 + working on exposure 058 + working on exposure 060 + working on exposure 062 + working on exposure 068 + working on exposure 069 + working on exposure 074 + working on exposure 077 + working on exposure 080 + working on exposure 081 + working on exposure 082 + working on exposure 084 + working on exposure 083 + working on exposure 087 + working on exposure 086 + working on exposure 088 + working on exposure 089 + working on exposure 090 + working on exposure 094 + working on exposure 095 + working on exposure 097 + working on exposure 096 + working on exposure 100 + working on exposure 102 + working on exposure 110 + working on exposure 111 + working on exposure 113 + working on exposure 114 + working on exposure 117 + working on exposure 118 + working on exposure 119 + working on exposure 120\r"
     ]
    },
    {
     "name": "stderr",
     "output_type": "stream",
     "text": [
      "/home/wbarnes/Documents/codes/eispac/eispac/core/fit_spectra.py:423: RuntimeWarning: invalid value encountered in true_divide\n",
      "  rel_err = obs_errs/obs_cent\n",
      "Error: Wavelength not found! The input data file does not contain a window that observes 186.82500457763672 Angstroms\n",
      "Error: missing or invalid data. Please input a filepath, EISCube, or complete set of intensity, wavelength, and error arrays.\n",
      "Error: Please input a valid EISFitResult object.\n"
     ]
    },
    {
     "name": "stdout",
     "output_type": "stream",
     "text": [
      "\n",
      "\n",
      "Finished computing fits!\n",
      "   runtime : 0:00:20.189962\n",
      "   62483 spectra fit without issues\n",
      "   493 spectra have < 7 good data points\n",
      "   0 spectra have bad or invalid parameters\n",
      "Saving fit EIS intensities, velocities, and widths to fits files...\n",
      "   Directory: data\n",
      "   Filenames: eis_20210424_041423.fe_11_188_216.2c-0.int.fits\n",
      "              eis_20210424_041423.fe_11_188_216.2c-0.vel.fits\n",
      "              eis_20210424_041423.fe_11_188_216.2c-0.wid.fits\n",
      "              eis_20210424_041423.fe_11_188_299.2c-1.int.fits\n",
      "              eis_20210424_041423.fe_11_188_299.2c-1.vel.fits\n",
      "              eis_20210424_041423.fe_11_188_299.2c-1.wid.fits\n",
      "Data file,\n",
      "   /home/wbarnes/sunpy/data/eis_20210424_041423.data.h5\n",
      "Header file,\n",
      "   /home/wbarnes/sunpy/data/eis_20210424_041423.head.h5\n",
      "Data file,\n",
      "   /home/wbarnes/sunpy/data/eis_20210424_041423.data.h5\n",
      "Header file,\n",
      "   /home/wbarnes/sunpy/data/eis_20210424_041423.head.h5\n",
      "Found a wavelength 195.11 [Angstroms] in window 3\n",
      "INFO: uncertainty should have attribute uncertainty_type. [astropy.nddata.nddata]\n",
      " + computing fits for 123 exposures, each with 512 spectra\n",
      " + running mpfit on 36 cores (of 36)\n",
      " + working on exposure 123 + working on exposure 004 + working on exposure 005 + working on exposure 008 + working on exposure 009 + working on exposure 010 + working on exposure 014 + working on exposure 017 + working on exposure 016 + working on exposure 018 + working on exposure 019 + working on exposure 022 + working on exposure 026 + working on exposure 027 + working on exposure 029 + working on exposure 031 + working on exposure 032 + working on exposure 035 + working on exposure 036 + working on exposure 025 + working on exposure 037 + working on exposure 039 + working on exposure 040 + working on exposure 041 + working on exposure 042 + working on exposure 043 + working on exposure 044 + working on exposure 046 + working on exposure 047 + working on exposure 049 + working on exposure 048 + working on exposure 053 + working on exposure 052 + working on exposure 055 + working on exposure 060 + working on exposure 061 + working on exposure 062 + working on exposure 064 + working on exposure 066 + working on exposure 067 + working on exposure 068 + working on exposure 069 + working on exposure 071 + working on exposure 074 + working on exposure 075 + working on exposure 077 + working on exposure 078 + working on exposure 081 + working on exposure 080 + working on exposure 083 + working on exposure 085 + working on exposure 086 + working on exposure 088 + working on exposure 091 + working on exposure 089 + working on exposure 092 + working on exposure 090 + working on exposure 094 + working on exposure 095 + working on exposure 097 + working on exposure 099 + working on exposure 100 + working on exposure 101 + working on exposure 102 + working on exposure 103 + working on exposure 112 + working on exposure 114 + working on exposure 116 + working on exposure 118 + working on exposure 117 + working on exposure 119\n",
      "\n",
      "Finished computing fits!\n",
      "   runtime : 0:00:09.947128\n",
      "   62976 spectra fit without issues\n",
      "   0 spectra have < 7 good data points\n",
      "   0 spectra have bad or invalid parameters\n",
      "Saving fit EIS intensities, velocities, and widths to fits files...\n",
      "   Directory: data\n",
      "   Filenames: eis_20210424_041423.fe_12_195_119.1c-0.int.fits\n",
      "              eis_20210424_041423.fe_12_195_119.1c-0.vel.fits\n",
      "              eis_20210424_041423.fe_12_195_119.1c-0.wid.fits\n"
     ]
    }
   ],
   "source": [
    "for t in templates:\n",
    "    cube = eispac.read_cube(files[0], window=t.central_wave)\n",
    "    fit_res = eispac.fit_spectra(cube, t, ncpu='max', unsafe_mp=True)\n",
    "    _ = eispac.export_fits(fit_res, save_dir='data/')"
   ]
  },
  {
   "cell_type": "code",
   "execution_count": null,
   "id": "excellent-knife",
   "metadata": {},
   "outputs": [],
   "source": []
  }
 ],
 "metadata": {
  "kernelspec": {
   "display_name": "Python [conda env:sunpy-hinode-iris-21]",
   "language": "python",
   "name": "conda-env-sunpy-hinode-iris-21-py"
  },
  "language_info": {
   "codemirror_mode": {
    "name": "ipython",
    "version": 3
   },
   "file_extension": ".py",
   "mimetype": "text/x-python",
   "name": "python",
   "nbconvert_exporter": "python",
   "pygments_lexer": "ipython3",
   "version": "3.9.7"
  }
 },
 "nbformat": 4,
 "nbformat_minor": 5
}
